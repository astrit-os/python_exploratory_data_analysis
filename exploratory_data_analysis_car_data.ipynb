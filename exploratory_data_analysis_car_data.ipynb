{
 "cells": [
  {
   "cell_type": "markdown",
   "metadata": {},
   "source": [
    "# Exploratory data analysis (EDA) of car data"
   ]
  },
  {
   "cell_type": "markdown",
   "metadata": {},
   "source": [
    "## Libraries and settings"
   ]
  },
  {
   "cell_type": "code",
   "execution_count": 1,
   "metadata": {},
   "outputs": [
    {
     "name": "stdout",
     "output_type": "stream",
     "text": [
      "/workspaces/python_exploratory_data_analysis\n"
     ]
    }
   ],
   "source": [
    "# Libraries\n",
    "import os\n",
    "import random\n",
    "import pandas as pd\n",
    "import numpy as np\n",
    "import seaborn as sns\n",
    "import matplotlib.pyplot as plt\n",
    "import statsmodels.api as sm\n",
    "from datetime import datetime, timedelta\n",
    "\n",
    "# seaborn graphics settings\n",
    "sns.set_theme(color_codes=True)\n",
    "\n",
    "# Ignore warnings\n",
    "import warnings\n",
    "warnings.filterwarnings(\"ignore\")\n",
    "\n",
    "# Show current working directory\n",
    "print(os.getcwd())"
   ]
  },
  {
   "cell_type": "markdown",
   "metadata": {},
   "source": [
    "## Importing the car data"
   ]
  },
  {
   "cell_type": "markdown",
   "metadata": {},
   "source": [
    "### Importing the car data"
   ]
  },
  {
   "cell_type": "code",
   "execution_count": 2,
   "metadata": {},
   "outputs": [
    {
     "data": {
      "text/html": [
       "<div>\n",
       "<style scoped>\n",
       "    .dataframe tbody tr th:only-of-type {\n",
       "        vertical-align: middle;\n",
       "    }\n",
       "\n",
       "    .dataframe tbody tr th {\n",
       "        vertical-align: top;\n",
       "    }\n",
       "\n",
       "    .dataframe thead th {\n",
       "        text-align: right;\n",
       "    }\n",
       "</style>\n",
       "<table border=\"1\" class=\"dataframe\">\n",
       "  <thead>\n",
       "    <tr style=\"text-align: right;\">\n",
       "      <th></th>\n",
       "      <th>offer_id</th>\n",
       "      <th>type</th>\n",
       "      <th>price</th>\n",
       "      <th>hp</th>\n",
       "      <th>mileage</th>\n",
       "      <th>fuel_type</th>\n",
       "      <th>transmission</th>\n",
       "      <th>dealer_plz</th>\n",
       "      <th>dealer_city</th>\n",
       "      <th>dealer_street_house_nr</th>\n",
       "      <th>init_regist_my</th>\n",
       "      <th>init_regist_month</th>\n",
       "      <th>init_regist_year</th>\n",
       "      <th>init_regist_dt</th>\n",
       "    </tr>\n",
       "  </thead>\n",
       "  <tbody>\n",
       "    <tr>\n",
       "      <th>0</th>\n",
       "      <td>7324420</td>\n",
       "      <td>AUDI A5 Sportback 3.0 TDI quattro S-tronic (Li...</td>\n",
       "      <td>22500</td>\n",
       "      <td>245</td>\n",
       "      <td>75000</td>\n",
       "      <td>Diesel</td>\n",
       "      <td>Automatisiertes Schaltgetriebe</td>\n",
       "      <td>8488</td>\n",
       "      <td>Turbenthal</td>\n",
       "      <td>Mettlenstrasse 3</td>\n",
       "      <td>10.2014</td>\n",
       "      <td>10.0</td>\n",
       "      <td>2014.0</td>\n",
       "      <td>2014-10</td>\n",
       "    </tr>\n",
       "    <tr>\n",
       "      <th>1</th>\n",
       "      <td>7512768</td>\n",
       "      <td>MERCEDES-BENZ SLK 200 7G-Tronic (Cabriolet)</td>\n",
       "      <td>23749</td>\n",
       "      <td>184</td>\n",
       "      <td>46655</td>\n",
       "      <td>Benzin</td>\n",
       "      <td>Automat sequentiell</td>\n",
       "      <td>3186</td>\n",
       "      <td>Düdingen</td>\n",
       "      <td>Brugerastrasse 60</td>\n",
       "      <td>6.2013</td>\n",
       "      <td>6.0</td>\n",
       "      <td>2013.0</td>\n",
       "      <td>2013-06</td>\n",
       "    </tr>\n",
       "    <tr>\n",
       "      <th>2</th>\n",
       "      <td>7512034</td>\n",
       "      <td>MERCEDES-BENZ C 350 Avantgarde 4Matic 7G-Troni...</td>\n",
       "      <td>18500</td>\n",
       "      <td>306</td>\n",
       "      <td>138955</td>\n",
       "      <td>Benzin</td>\n",
       "      <td>Automat sequentiell</td>\n",
       "      <td>1262</td>\n",
       "      <td>Eysins</td>\n",
       "      <td>1262 Eysins</td>\n",
       "      <td>6.2011</td>\n",
       "      <td>6.0</td>\n",
       "      <td>2011.0</td>\n",
       "      <td>2011-06</td>\n",
       "    </tr>\n",
       "    <tr>\n",
       "      <th>3</th>\n",
       "      <td>7512728</td>\n",
       "      <td>MERCEDES-BENZ A 45 AMG 4Matic Speedshift 7G-DC...</td>\n",
       "      <td>36000</td>\n",
       "      <td>360</td>\n",
       "      <td>43000</td>\n",
       "      <td>Benzin</td>\n",
       "      <td>Automatisiertes Schaltgetriebe</td>\n",
       "      <td>4314</td>\n",
       "      <td>Zeiningen</td>\n",
       "      <td>Am Stutz 21</td>\n",
       "      <td>8.2015</td>\n",
       "      <td>8.0</td>\n",
       "      <td>2015.0</td>\n",
       "      <td>2015-08</td>\n",
       "    </tr>\n",
       "    <tr>\n",
       "      <th>4</th>\n",
       "      <td>7490242</td>\n",
       "      <td>AUDI A5 Sportback 2.0 TFSI Sport quattro S-tro...</td>\n",
       "      <td>48500</td>\n",
       "      <td>252</td>\n",
       "      <td>43300</td>\n",
       "      <td>Benzin</td>\n",
       "      <td>Automatisiertes Schaltgetriebe</td>\n",
       "      <td>3250</td>\n",
       "      <td>Lyss</td>\n",
       "      <td>3250 Lyss</td>\n",
       "      <td>9.2018</td>\n",
       "      <td>9.0</td>\n",
       "      <td>2018.0</td>\n",
       "      <td>2018-09</td>\n",
       "    </tr>\n",
       "  </tbody>\n",
       "</table>\n",
       "</div>"
      ],
      "text/plain": [
       "   offer_id                                               type  price   hp  \\\n",
       "0   7324420  AUDI A5 Sportback 3.0 TDI quattro S-tronic (Li...  22500  245   \n",
       "1   7512768        MERCEDES-BENZ SLK 200 7G-Tronic (Cabriolet)  23749  184   \n",
       "2   7512034  MERCEDES-BENZ C 350 Avantgarde 4Matic 7G-Troni...  18500  306   \n",
       "3   7512728  MERCEDES-BENZ A 45 AMG 4Matic Speedshift 7G-DC...  36000  360   \n",
       "4   7490242  AUDI A5 Sportback 2.0 TFSI Sport quattro S-tro...  48500  252   \n",
       "\n",
       "   mileage fuel_type                    transmission  dealer_plz dealer_city  \\\n",
       "0    75000    Diesel  Automatisiertes Schaltgetriebe        8488  Turbenthal   \n",
       "1    46655    Benzin             Automat sequentiell        3186    Düdingen   \n",
       "2   138955    Benzin             Automat sequentiell        1262      Eysins   \n",
       "3    43000    Benzin  Automatisiertes Schaltgetriebe        4314   Zeiningen   \n",
       "4    43300    Benzin  Automatisiertes Schaltgetriebe        3250        Lyss   \n",
       "\n",
       "  dealer_street_house_nr  init_regist_my  init_regist_month  init_regist_year  \\\n",
       "0       Mettlenstrasse 3         10.2014               10.0            2014.0   \n",
       "1      Brugerastrasse 60          6.2013                6.0            2013.0   \n",
       "2            1262 Eysins          6.2011                6.0            2011.0   \n",
       "3            Am Stutz 21          8.2015                8.0            2015.0   \n",
       "4              3250 Lyss          9.2018                9.0            2018.0   \n",
       "\n",
       "  init_regist_dt  \n",
       "0        2014-10  \n",
       "1        2013-06  \n",
       "2        2011-06  \n",
       "3        2015-08  \n",
       "4        2018-09  "
      ]
     },
     "execution_count": 2,
     "metadata": {},
     "output_type": "execute_result"
    }
   ],
   "source": [
    "# Columns to read\n",
    "columns = [\"Offer_Id\",\n",
    "            \"Type\",\n",
    "            \"Price\",\n",
    "            \"HP\",\n",
    "            \"Mileage\",\n",
    "            \"Fuel_Type\",\n",
    "            \"Transmission\",\n",
    "            \"Dealer_PLZ\",\n",
    "            \"Dealer_City\",\n",
    "            \"Dealer_Street_House_Nr\",\n",
    "            \"Init_Regist_MY\",\n",
    "            \"Init_Regist_Month\",\n",
    "            \"Init_Regist_Year\",\n",
    "            \"Init_Regist_Dt\"]\n",
    "\n",
    "# Read and select variables\n",
    "df_orig = pd.read_csv(\"autoscout24_data_enriched_cleaned.csv\", sep=\",\")[columns]\n",
    "\n",
    "# Change column names to lower case\n",
    "df_orig.columns = df_orig.columns.str.lower()\n",
    "\n",
    "# Remove duplicates\n",
    "df_orig = df_orig.drop_duplicates()\n",
    "df_orig.head(5)\n",
    "\n",
    "# Remove missing values\n",
    "df = df_orig.dropna()\n",
    "df.head(5)"
   ]
  },
  {
   "cell_type": "markdown",
   "metadata": {},
   "source": [
    "## Univariate non-graphical exploratory data analysis (EDA)"
   ]
  },
  {
   "cell_type": "markdown",
   "metadata": {},
   "source": [
    "### Quantiles"
   ]
  },
  {
   "cell_type": "code",
   "execution_count": 5,
   "metadata": {},
   "outputs": [
    {
     "data": {
      "text/html": [
       "<div>\n",
       "<style scoped>\n",
       "    .dataframe tbody tr th:only-of-type {\n",
       "        vertical-align: middle;\n",
       "    }\n",
       "\n",
       "    .dataframe tbody tr th {\n",
       "        vertical-align: top;\n",
       "    }\n",
       "\n",
       "    .dataframe thead th {\n",
       "        text-align: right;\n",
       "    }\n",
       "</style>\n",
       "<table border=\"1\" class=\"dataframe\">\n",
       "  <thead>\n",
       "    <tr style=\"text-align: right;\">\n",
       "      <th></th>\n",
       "      <th>price</th>\n",
       "      <th>hp</th>\n",
       "      <th>mileage</th>\n",
       "    </tr>\n",
       "  </thead>\n",
       "  <tbody>\n",
       "    <tr>\n",
       "      <th>0.05</th>\n",
       "      <td>4000.0</td>\n",
       "      <td>90.0</td>\n",
       "      <td>13700.0</td>\n",
       "    </tr>\n",
       "    <tr>\n",
       "      <th>0.10</th>\n",
       "      <td>5900.0</td>\n",
       "      <td>110.0</td>\n",
       "      <td>23000.0</td>\n",
       "    </tr>\n",
       "    <tr>\n",
       "      <th>0.25</th>\n",
       "      <td>10900.0</td>\n",
       "      <td>150.0</td>\n",
       "      <td>45000.0</td>\n",
       "    </tr>\n",
       "    <tr>\n",
       "      <th>0.50</th>\n",
       "      <td>19900.0</td>\n",
       "      <td>204.0</td>\n",
       "      <td>83500.0</td>\n",
       "    </tr>\n",
       "    <tr>\n",
       "      <th>0.75</th>\n",
       "      <td>35900.0</td>\n",
       "      <td>306.0</td>\n",
       "      <td>130000.0</td>\n",
       "    </tr>\n",
       "    <tr>\n",
       "      <th>0.90</th>\n",
       "      <td>56900.0</td>\n",
       "      <td>405.0</td>\n",
       "      <td>176000.0</td>\n",
       "    </tr>\n",
       "    <tr>\n",
       "      <th>0.95</th>\n",
       "      <td>72500.0</td>\n",
       "      <td>469.5</td>\n",
       "      <td>206090.5</td>\n",
       "    </tr>\n",
       "  </tbody>\n",
       "</table>\n",
       "</div>"
      ],
      "text/plain": [
       "        price     hp   mileage\n",
       "0.05   4000.0   90.0   13700.0\n",
       "0.10   5900.0  110.0   23000.0\n",
       "0.25  10900.0  150.0   45000.0\n",
       "0.50  19900.0  204.0   83500.0\n",
       "0.75  35900.0  306.0  130000.0\n",
       "0.90  56900.0  405.0  176000.0\n",
       "0.95  72500.0  469.5  206090.5"
      ]
     },
     "execution_count": 5,
     "metadata": {},
     "output_type": "execute_result"
    }
   ],
   "source": [
    "# Calculate Quantiles \n",
    "df[['price', 'hp', 'mileage']].quantile(\n",
    "    q=[0.05, 0.10, 0.25, 0.50, 0.75, 0.90, 0.95]).round(2)"
   ]
  },
  {
   "cell_type": "markdown",
   "metadata": {},
   "source": [
    "### Shape (number of rows and colums)"
   ]
  },
  {
   "cell_type": "code",
   "execution_count": 6,
   "metadata": {},
   "outputs": [
    {
     "data": {
      "text/plain": [
       "(3971, 14)"
      ]
     },
     "execution_count": 6,
     "metadata": {},
     "output_type": "execute_result"
    }
   ],
   "source": [
    "# Number of rows and columns\n",
    "df.shape"
   ]
  },
  {
   "cell_type": "markdown",
   "metadata": {},
   "source": [
    "### Data types"
   ]
  },
  {
   "cell_type": "code",
   "execution_count": 9,
   "metadata": {},
   "outputs": [
    {
     "data": {
      "text/plain": [
       "offer_id                    int64\n",
       "type                       object\n",
       "price                       int64\n",
       "hp                          int64\n",
       "mileage                     int64\n",
       "fuel_type                  object\n",
       "transmission               object\n",
       "dealer_plz                  int64\n",
       "dealer_city                object\n",
       "dealer_street_house_nr     object\n",
       "init_regist_my            float64\n",
       "init_regist_month         float64\n",
       "init_regist_year          float64\n",
       "init_regist_dt             object\n",
       "dtype: object"
      ]
     },
     "execution_count": 9,
     "metadata": {},
     "output_type": "execute_result"
    }
   ],
   "source": [
    "# Show data types\n",
    "df.dtypes"
   ]
  },
  {
   "cell_type": "markdown",
   "metadata": {},
   "source": [
    "### Summary statistics of numeric variables"
   ]
  },
  {
   "cell_type": "code",
   "execution_count": 10,
   "metadata": {},
   "outputs": [
    {
     "data": {
      "text/html": [
       "<div>\n",
       "<style scoped>\n",
       "    .dataframe tbody tr th:only-of-type {\n",
       "        vertical-align: middle;\n",
       "    }\n",
       "\n",
       "    .dataframe tbody tr th {\n",
       "        vertical-align: top;\n",
       "    }\n",
       "\n",
       "    .dataframe thead th {\n",
       "        text-align: right;\n",
       "    }\n",
       "</style>\n",
       "<table border=\"1\" class=\"dataframe\">\n",
       "  <thead>\n",
       "    <tr style=\"text-align: right;\">\n",
       "      <th></th>\n",
       "      <th>offer_id</th>\n",
       "      <th>price</th>\n",
       "      <th>hp</th>\n",
       "      <th>mileage</th>\n",
       "      <th>dealer_plz</th>\n",
       "      <th>init_regist_my</th>\n",
       "      <th>init_regist_month</th>\n",
       "      <th>init_regist_year</th>\n",
       "    </tr>\n",
       "  </thead>\n",
       "  <tbody>\n",
       "    <tr>\n",
       "      <th>count</th>\n",
       "      <td>3.971000e+03</td>\n",
       "      <td>3971.000000</td>\n",
       "      <td>3971.000000</td>\n",
       "      <td>3971.000000</td>\n",
       "      <td>3971.000000</td>\n",
       "      <td>3971.000000</td>\n",
       "      <td>3971.000000</td>\n",
       "      <td>3971.000000</td>\n",
       "    </tr>\n",
       "    <tr>\n",
       "      <th>mean</th>\n",
       "      <td>7.242907e+06</td>\n",
       "      <td>27527.641652</td>\n",
       "      <td>235.831025</td>\n",
       "      <td>92952.412491</td>\n",
       "      <td>5522.633594</td>\n",
       "      <td>6.510513</td>\n",
       "      <td>6.309494</td>\n",
       "      <td>2010.189121</td>\n",
       "    </tr>\n",
       "    <tr>\n",
       "      <th>std</th>\n",
       "      <td>4.655890e+05</td>\n",
       "      <td>26670.221155</td>\n",
       "      <td>119.671388</td>\n",
       "      <td>61097.990134</td>\n",
       "      <td>2848.337824</td>\n",
       "      <td>3.386338</td>\n",
       "      <td>3.386320</td>\n",
       "      <td>9.610067</td>\n",
       "    </tr>\n",
       "    <tr>\n",
       "      <th>min</th>\n",
       "      <td>1.395491e+06</td>\n",
       "      <td>160.000000</td>\n",
       "      <td>16.000000</td>\n",
       "      <td>1.000000</td>\n",
       "      <td>1000.000000</td>\n",
       "      <td>1.194600</td>\n",
       "      <td>1.000000</td>\n",
       "      <td>1929.000000</td>\n",
       "    </tr>\n",
       "    <tr>\n",
       "      <th>25%</th>\n",
       "      <td>7.249691e+06</td>\n",
       "      <td>10900.000000</td>\n",
       "      <td>150.000000</td>\n",
       "      <td>45000.000000</td>\n",
       "      <td>3014.000000</td>\n",
       "      <td>3.201800</td>\n",
       "      <td>3.000000</td>\n",
       "      <td>2008.000000</td>\n",
       "    </tr>\n",
       "    <tr>\n",
       "      <th>50%</th>\n",
       "      <td>7.408668e+06</td>\n",
       "      <td>19900.000000</td>\n",
       "      <td>204.000000</td>\n",
       "      <td>83500.000000</td>\n",
       "      <td>6003.000000</td>\n",
       "      <td>6.201400</td>\n",
       "      <td>6.000000</td>\n",
       "      <td>2013.000000</td>\n",
       "    </tr>\n",
       "    <tr>\n",
       "      <th>75%</th>\n",
       "      <td>7.456806e+06</td>\n",
       "      <td>35900.000000</td>\n",
       "      <td>306.000000</td>\n",
       "      <td>130000.000000</td>\n",
       "      <td>8304.500000</td>\n",
       "      <td>9.201500</td>\n",
       "      <td>9.000000</td>\n",
       "      <td>2016.000000</td>\n",
       "    </tr>\n",
       "    <tr>\n",
       "      <th>max</th>\n",
       "      <td>7.512843e+06</td>\n",
       "      <td>428000.000000</td>\n",
       "      <td>772.000000</td>\n",
       "      <td>370000.000000</td>\n",
       "      <td>9657.000000</td>\n",
       "      <td>12.201900</td>\n",
       "      <td>12.000000</td>\n",
       "      <td>2020.000000</td>\n",
       "    </tr>\n",
       "  </tbody>\n",
       "</table>\n",
       "</div>"
      ],
      "text/plain": [
       "           offer_id          price           hp        mileage   dealer_plz  \\\n",
       "count  3.971000e+03    3971.000000  3971.000000    3971.000000  3971.000000   \n",
       "mean   7.242907e+06   27527.641652   235.831025   92952.412491  5522.633594   \n",
       "std    4.655890e+05   26670.221155   119.671388   61097.990134  2848.337824   \n",
       "min    1.395491e+06     160.000000    16.000000       1.000000  1000.000000   \n",
       "25%    7.249691e+06   10900.000000   150.000000   45000.000000  3014.000000   \n",
       "50%    7.408668e+06   19900.000000   204.000000   83500.000000  6003.000000   \n",
       "75%    7.456806e+06   35900.000000   306.000000  130000.000000  8304.500000   \n",
       "max    7.512843e+06  428000.000000   772.000000  370000.000000  9657.000000   \n",
       "\n",
       "       init_regist_my  init_regist_month  init_regist_year  \n",
       "count     3971.000000        3971.000000       3971.000000  \n",
       "mean         6.510513           6.309494       2010.189121  \n",
       "std          3.386338           3.386320          9.610067  \n",
       "min          1.194600           1.000000       1929.000000  \n",
       "25%          3.201800           3.000000       2008.000000  \n",
       "50%          6.201400           6.000000       2013.000000  \n",
       "75%          9.201500           9.000000       2016.000000  \n",
       "max         12.201900          12.000000       2020.000000  "
      ]
     },
     "execution_count": 10,
     "metadata": {},
     "output_type": "execute_result"
    }
   ],
   "source": [
    "# Show summary statistics of variables\n",
    "df.describe()"
   ]
  },
  {
   "cell_type": "markdown",
   "metadata": {},
   "source": [
    "### Statistical measures (min, max, std, mean, median, count) for selected variables"
   ]
  },
  {
   "cell_type": "code",
   "execution_count": 14,
   "metadata": {},
   "outputs": [
    {
     "name": "stdout",
     "output_type": "stream",
     "text": [
      "Price: Count: 3971 Min: 160 Max: 428000 Mean: 27527.6 Median: 19900.0 Std: 26670.2\n",
      "Mileage: Count: 3971 Min: 1 Max: 370000 Mean: 92952.4 Median: 83500.0 Std: 61098.0\n",
      "HP: Count: 3971 Min: 16 Max: 772 Mean: 235.8 Median: 204.0 Std: 119.7\n"
     ]
    }
   ],
   "source": [
    "# Price\n",
    "print('Price:',\n",
    "      'Count:', round(df.price.count(), 1),                 # round(, 1) rundet das Ergebnis auf 1 Dezimalstelle\n",
    "      'Min:', round(df.price.min(), 1),\n",
    "      'Max:', round(df.price.max(), 1),\n",
    "      'Mean:', round(df.price.mean(), 1),\n",
    "      'Median:', round(df.price.median(), 1),\n",
    "      'Std:', round(df.price.std(), 1))\n",
    "\n",
    "# mileage\n",
    "print('Mileage:',\n",
    "      'Count:', round(df.mileage.count(), 1),\n",
    "      'Min:', round(df.mileage.min(), 1),\n",
    "      'Max:', round(df.mileage.max(), 1),\n",
    "      'Mean:', round(df.mileage.mean(), 1),\n",
    "      'Median:', round(df.mileage.median(), 1),\n",
    "      'Std:', round(df.mileage.std(), 1))\n",
    "\n",
    "# HP\n",
    "print('HP:',\n",
    "      'Count:', round(df.hp.count(), 1),\n",
    "      'Min:', round(df.hp.min(), 1),\n",
    "      'Max:', round(df.hp.max(), 1),\n",
    "      'Mean:', round(df.hp.mean(), 1),\n",
    "      'Median:', round(df.hp.median(), 1),\n",
    "      'Std:', round(df.hp.std(), 1))"
   ]
  },
  {
   "cell_type": "markdown",
   "metadata": {},
   "source": [
    "### Skewness"
   ]
  },
  {
   "cell_type": "code",
   "execution_count": 11,
   "metadata": {},
   "outputs": [],
   "source": [
    "# Show skewness of selected variables"
   ]
  },
  {
   "cell_type": "markdown",
   "metadata": {},
   "source": [
    "### Kurtosis"
   ]
  },
  {
   "cell_type": "code",
   "execution_count": 12,
   "metadata": {},
   "outputs": [],
   "source": [
    "# Show kurtosis of selected variables"
   ]
  },
  {
   "cell_type": "markdown",
   "metadata": {},
   "source": [
    "### Extreme values"
   ]
  },
  {
   "cell_type": "code",
   "execution_count": 13,
   "metadata": {},
   "outputs": [],
   "source": [
    "# Low costs cars\n"
   ]
  },
  {
   "cell_type": "code",
   "execution_count": 14,
   "metadata": {},
   "outputs": [],
   "source": [
    "# Very expansive cars\n"
   ]
  },
  {
   "cell_type": "markdown",
   "metadata": {},
   "source": [
    "### Get a list of categories of categorical variable"
   ]
  },
  {
   "cell_type": "code",
   "execution_count": 16,
   "metadata": {},
   "outputs": [
    {
     "data": {
      "text/plain": [
       "array(['Automat', 'Automatik-Getriebe', 'Benzin', 'Diesel', 'Elektro',\n",
       "       'Erdgas (CNG) / Benzin', 'Flüssiggas (LPG) / Benzin',\n",
       "       'Hybrid Benzin/Elektro', 'Hybrid Diesel/Elektro',\n",
       "       'Mild-Hybrid Benzin/Elektro', 'Mild-Hybrid Diesel/Elektro',\n",
       "       'Plug-in-Hybrid Benzin/Elektro', 'Plug-in-Hybrid Diesel/Elektro',\n",
       "       'Schaltgetriebe', 'Schaltgetriebe manuell',\n",
       "       'Voll-Hybrid Benzin/Elektro', 'Voll-Hybrid Diesel/Elektro'],\n",
       "      dtype=object)"
      ]
     },
     "execution_count": 16,
     "metadata": {},
     "output_type": "execute_result"
    }
   ],
   "source": [
    "# Get a list of categories of the variable fuel_type\n",
    "np.array(pd.Categorical(df['fuel_type']).categories)"
   ]
  },
  {
   "cell_type": "markdown",
   "metadata": {},
   "source": [
    "## Multivariate non-graphical exploratory data analysis (EDA)"
   ]
  },
  {
   "cell_type": "markdown",
   "metadata": {},
   "source": [
    "### Cross-tabulation"
   ]
  },
  {
   "cell_type": "code",
   "execution_count": 16,
   "metadata": {},
   "outputs": [],
   "source": [
    "# Create a crosstab of the variables fuel_type and transmission\n"
   ]
  },
  {
   "cell_type": "markdown",
   "metadata": {},
   "source": [
    "### Pivot tables"
   ]
  },
  {
   "cell_type": "code",
   "execution_count": 17,
   "metadata": {},
   "outputs": [],
   "source": [
    "# Using pivot_table with averages of price, mileage and hp of the cars by fuel type\n"
   ]
  },
  {
   "cell_type": "markdown",
   "metadata": {},
   "source": [
    "### Correlation matrix"
   ]
  },
  {
   "cell_type": "code",
   "execution_count": 18,
   "metadata": {},
   "outputs": [],
   "source": [
    "# Calculate correlation matrix of the variables mileage, price and hp\n"
   ]
  },
  {
   "cell_type": "markdown",
   "metadata": {},
   "source": [
    "### Covariance matrix"
   ]
  },
  {
   "cell_type": "code",
   "execution_count": 19,
   "metadata": {},
   "outputs": [],
   "source": [
    "# Calculate covariance matrix of the variables mileage, price and hp\n"
   ]
  },
  {
   "cell_type": "markdown",
   "metadata": {},
   "source": [
    "## Univariate graphical exploratory data analysis (EDA)"
   ]
  },
  {
   "cell_type": "markdown",
   "metadata": {},
   "source": [
    "### Line chart (matplotlib)"
   ]
  },
  {
   "cell_type": "code",
   "execution_count": 21,
   "metadata": {},
   "outputs": [],
   "source": [
    "# Generate time series data for mean car prices over the last 20 years\n",
    "\n",
    "\n",
    "\n",
    "# Start from 25 years ago with an initial price\n",
    "\n",
    "\n",
    "\n",
    "# Create a DataFrame to display the data\n",
    "\n",
    "\n",
    "\n",
    "# Create figure\n",
    "\n",
    "\n",
    "# Show plot"
   ]
  },
  {
   "cell_type": "markdown",
   "metadata": {},
   "source": [
    "### Boxplot (seaborn)"
   ]
  },
  {
   "cell_type": "code",
   "execution_count": null,
   "metadata": {},
   "outputs": [],
   "source": [
    "# Create a boxplot of the variable mileage\n"
   ]
  },
  {
   "cell_type": "markdown",
   "metadata": {},
   "source": [
    "### Histogram  (matplotlib)"
   ]
  },
  {
   "cell_type": "code",
   "execution_count": null,
   "metadata": {},
   "outputs": [],
   "source": [
    "# Plot Histogram of the variable price\n",
    "\n",
    "\n",
    "# Create figure\n",
    "\n",
    "\n",
    "# Set labels\n",
    "\n",
    "\n",
    "# Set fontsize of tick labels\n",
    "\n",
    "\n",
    "# Show plot\n"
   ]
  },
  {
   "cell_type": "markdown",
   "metadata": {},
   "source": [
    "### Density plot  (seaborn)"
   ]
  },
  {
   "cell_type": "code",
   "execution_count": null,
   "metadata": {},
   "outputs": [],
   "source": [
    "# Create a density plot of the variable price\n",
    "\n",
    "\n",
    "# Create figure\n",
    "\n",
    "\n",
    "# Set title and labels\n",
    "\n",
    "\n",
    "# Show plot\n"
   ]
  },
  {
   "cell_type": "markdown",
   "metadata": {},
   "source": [
    "### Quantile-Quantile (QQ-) plot"
   ]
  },
  {
   "cell_type": "code",
   "execution_count": null,
   "metadata": {},
   "outputs": [],
   "source": [
    "# Create qqplot of the variable mileage\n",
    "\n",
    "\n",
    "# Variable (standardized)\n",
    "\n",
    "    \n",
    "# Plot\n"
   ]
  },
  {
   "cell_type": "markdown",
   "metadata": {},
   "source": [
    "### Barchart  (matplotlib)"
   ]
  },
  {
   "cell_type": "code",
   "execution_count": null,
   "metadata": {},
   "outputs": [],
   "source": [
    "# Group data by fuel_type (only the topmost 15 values are shown)\n",
    "\n",
    "\n",
    "# Values for barchart\n",
    "\n",
    "\n",
    "# Figure\n",
    "\n",
    "\n",
    "# Show graph\n"
   ]
  },
  {
   "cell_type": "markdown",
   "metadata": {},
   "source": [
    "### Piechart (matplotlib)"
   ]
  },
  {
   "cell_type": "code",
   "execution_count": null,
   "metadata": {},
   "outputs": [],
   "source": [
    "# Subset of cars with fuel type (only Diesel, Benzin and Elektro)\n",
    "\n",
    "\n",
    "# Group data by  (only the 8 most frequently occurencies)\n",
    "\n",
    "\n",
    "# Simple bar chart\n",
    "\n",
    "\n",
    "# Show plot"
   ]
  },
  {
   "cell_type": "markdown",
   "metadata": {},
   "source": [
    "## Multivariate graphical exploratory data analysis (EDA)"
   ]
  },
  {
   "cell_type": "markdown",
   "metadata": {},
   "source": [
    "### Scatterplot (matplotlib)"
   ]
  },
  {
   "cell_type": "code",
   "execution_count": null,
   "metadata": {},
   "outputs": [],
   "source": [
    "# Create a scatterplot of the variables hp and price\n"
   ]
  },
  {
   "cell_type": "markdown",
   "metadata": {},
   "source": [
    "### Scatterplot (matplotlib) with regression line"
   ]
  },
  {
   "cell_type": "code",
   "execution_count": null,
   "metadata": {},
   "outputs": [],
   "source": [
    "# Create a scatterplot of the variables hp and price\n",
    "\n",
    "\n",
    "# Add a regression line (b = slope, a=intercept) to the plot\n",
    "\n",
    "\n",
    "# Show plot\n"
   ]
  },
  {
   "cell_type": "markdown",
   "metadata": {},
   "source": [
    "### Scatterplot-matrix (seaborn)"
   ]
  },
  {
   "cell_type": "code",
   "execution_count": null,
   "metadata": {},
   "outputs": [],
   "source": [
    "# Create a scatterplot of the variables mileage, price and hp\n",
    "\n",
    "\n",
    "# Show plot\n"
   ]
  },
  {
   "cell_type": "markdown",
   "metadata": {},
   "source": [
    "### Hexagonal binning plot  (matplotlib)"
   ]
  },
  {
   "cell_type": "code",
   "execution_count": null,
   "metadata": {},
   "outputs": [],
   "source": [
    "# Subset of cars with price <= 100000 and hp <= 400\n",
    "\n",
    "\n",
    "# Create a scatterplot of the variables hp and price\n",
    "\n",
    "\n",
    "# Set axes labels\n",
    "\n",
    "\n",
    "# Show plot"
   ]
  },
  {
   "cell_type": "markdown",
   "metadata": {},
   "source": [
    "### Correlation heatmap (seaborn)"
   ]
  },
  {
   "cell_type": "code",
   "execution_count": null,
   "metadata": {},
   "outputs": [],
   "source": [
    "# Create correlation matrix with variable price, mileage and hp\n",
    "\n",
    "\n",
    "# Plot heatmap\n"
   ]
  },
  {
   "cell_type": "markdown",
   "metadata": {},
   "source": [
    "### Bubble plot (seaborn)"
   ]
  },
  {
   "cell_type": "code",
   "execution_count": null,
   "metadata": {},
   "outputs": [],
   "source": [
    "# Create a scatterplot of the variables mileage, price, hp, price_per_hp\n",
    "# price on the y-axis\n",
    "# hp on the x-axis\n",
    "# price_per_hp determines bubble size\n",
    "# mileage determines color\n",
    "\n"
   ]
  },
  {
   "cell_type": "markdown",
   "metadata": {},
   "source": [
    "### Jupyter notebook --footer info-- (please always provide this at the end of each notebook)"
   ]
  },
  {
   "cell_type": "code",
   "execution_count": null,
   "metadata": {},
   "outputs": [],
   "source": [
    "import os\n",
    "import platform\n",
    "import socket\n",
    "from platform import python_version\n",
    "from datetime import datetime\n",
    "\n",
    "print('-----------------------------------')\n",
    "print(os.name.upper())\n",
    "print(platform.system(), '|', platform.release())\n",
    "print('Datetime:', datetime.now().strftime(\"%Y-%m-%d %H:%M:%S\"))\n",
    "print('Python Version:', python_version())\n",
    "print('-----------------------------------')"
   ]
  }
 ],
 "metadata": {
  "gist": {
   "data": {
    "description": "histogram.ipynb",
    "public": false
   },
   "id": ""
  },
  "kernelspec": {
   "display_name": "Python 3",
   "language": "python",
   "name": "python3"
  },
  "language_info": {
   "codemirror_mode": {
    "name": "ipython",
    "version": 3
   },
   "file_extension": ".py",
   "mimetype": "text/x-python",
   "name": "python",
   "nbconvert_exporter": "python",
   "pygments_lexer": "ipython3",
   "version": "3.11.10"
  },
  "toc": {
   "base_numbering": 1,
   "nav_menu": {},
   "number_sections": true,
   "sideBar": true,
   "skip_h1_title": false,
   "title_cell": "Table of Contents",
   "title_sidebar": "Contents",
   "toc_cell": false,
   "toc_position": {
    "height": "calc(100% - 180px)",
    "left": "10px",
    "top": "150px",
    "width": "196.075px"
   },
   "toc_section_display": true,
   "toc_window_display": true
  }
 },
 "nbformat": 4,
 "nbformat_minor": 2
}
